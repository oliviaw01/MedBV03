{
 "cells": [
  {
   "cell_type": "markdown",
   "metadata": {},
   "source": [
    "# 1st Assignment on Medical Image Processing\n",
    "\n",
    "## LU 183.630 - 2025 SoSe\n",
    "\n",
    "---\n",
    "\n",
    "### 2. Assignment\n",
    "\n",
    "The aim of the first lab exercise is to get familiar with **Python**, the implementation of **Principal Component Analysis (PCA)**, and the investigation of its characteristics. Parts of the code (data, plot functions) are provided so that students can focus on the main topics of the assignment.\n",
    "\n",
    "---\n",
    "\n",
    "#### 2.1 Helper Functions in helper_functions.py\n",
    "\n",
    "- `get_data()` loads all the neccecary variables that you will be working on\n",
    "- `plot2DPCA()` and `plot3DPCA()` can be used to plot:\n",
    "  - Data points\n",
    "  - Eigenvectors & eigenvalues\n",
    "  - Ellipses & ellipsoids\n",
    "  - Reconstructed data\n",
    "- `plotDemo()` demonstrates their usage."
   ]
  },
  {
   "cell_type": "markdown",
   "metadata": {},
   "source": [
    "### Import necessary libraries and functions for this assignment"
   ]
  },
  {
   "cell_type": "code",
   "execution_count": null,
   "metadata": {},
   "outputs": [
    {
     "ename": "",
     "evalue": "",
     "output_type": "error",
     "traceback": [
      "\u001b[1;31mRunning cells with 'base (Python 3.9.16)' requires the ipykernel package.\n",
      "\u001b[1;31m<a href='command:jupyter.createPythonEnvAndSelectController'>Create a Python Environment</a> with the required packages.\n",
      "\u001b[1;31mOr install 'ipykernel' using the command: 'conda install -n base ipykernel --update-deps --force-reinstall'"
     ]
    }
   ],
   "source": [
    "from helper_functions import plot2DPCA, plot3DPCA, get_data, plotDemo\n",
    "import numpy as np\n",
    "import matplotlib.pyplot as plt"
   ]
  },
  {
   "cell_type": "markdown",
   "metadata": {},
   "source": [
    "# Demo"
   ]
  },
  {
   "cell_type": "code",
   "execution_count": null,
   "metadata": {},
   "outputs": [],
   "source": [
    "plotDemo()"
   ]
  },
  {
   "cell_type": "markdown",
   "metadata": {},
   "source": [
    "### Load the data used in this assignment"
   ]
  },
  {
   "cell_type": "code",
   "execution_count": null,
   "metadata": {},
   "outputs": [],
   "source": [
    "#load data using helper function\n",
    "data0, data1, data2, data3d, bones = get_data()"
   ]
  },
  {
   "cell_type": "markdown",
   "metadata": {},
   "source": [
    "## Tasks: \n",
    "#### In this exercise, data points are given in a d × n-Matrix X, where n denotes the number of points and their dimensionality, i.e. 2 × n  for a set of 2D points (data0, data1, data2) and 3 × n for points in 3D (data3d)."
   ]
  },
  {
   "cell_type": "markdown",
   "metadata": {},
   "source": [
    "## 1. Covariance Matrix\n",
    "\n",
    "#### (a) Implement a function `ourCov(X)` that computes the covariance matrix `C` from a data matrix `X`. (3 Points)\n",
    "\n",
    "- You are **not allowed** to use any built-in function that directly computes the covariance matrix.\n",
    "- You **may use** basic NumPy operations such as `mean`, matrix multiplication, and `transpose`.\n",
    "- After implementing `ourCov`, **compare** its output to the result of `np.cov`.\n",
    "  - **Note:** `np.cov` expects a matrix of shape **d × n** (n_features × n_samples), so you may need to transpose your input before using it."
   ]
  },
  {
   "cell_type": "code",
   "execution_count": null,
   "metadata": {},
   "outputs": [],
   "source": [
    "def ourCov(X):\n",
    "    \"\"\"\n",
    "    Computes the covariance matrix of the input data X.\n",
    "\n",
    "    Parameters:\n",
    "        X (numpy.ndarray): Input data of shape (n_samples, n_features)\n",
    "\n",
    "    Returns:\n",
    "        C (numpy.ndarray): Covariance matrix\n",
    "    \"\"\"\n",
    "    \n",
    "    # TODO: Get number of samples\n",
    "\n",
    "    # TODO: Compute the mean vector\n",
    "\n",
    "    # TODO: Center the data\n",
    "\n",
    "    # TODO: Compute the covariance matrix\n",
    "\n",
    "    return C"
   ]
  },
  {
   "cell_type": "code",
   "execution_count": null,
   "metadata": {},
   "outputs": [],
   "source": [
    "for data in [data0, data1, data2]:\n",
    "\n",
    "    print('ourCov')\n",
    "    print(ourCov(data), '\\n\\n')\n",
    "\n",
    "    print('np.cov')\n",
    "    print(np.cov(data.T, bias=True), '\\n\\n')"
   ]
  },
  {
   "cell_type": "markdown",
   "metadata": {},
   "source": [
    "### (b) Compute the covariance matrix `C` for all data matrices (`data0`, `data1`, `data2`). (3 Points)\n",
    "\n",
    "- Visualize each dataset using `plt.scatter()` in **separate figures**.\n",
    "- Set the axis scale to equal using `plt.axis('equal')`.\n",
    "- **Interpret the resulting covariance matrices** for each dataset:\n",
    "  - What do the individual entries of `C` represent?\n",
    "  - Which position in `C` holds which type of information (e.g., variance, correlation)?"
   ]
  },
  {
   "cell_type": "code",
   "execution_count": null,
   "metadata": {},
   "outputs": [],
   "source": [
    "import matplotlib.pyplot as plt\n",
    "\n",
    "for i, data in enumerate([data0, data1, data2], start=1):\n",
    "    \n",
    "    fig = plt.figure(figsize=(5, 5))\n",
    "\n",
    "    # TODO: Compute and print the covariance matrix\n",
    "\n",
    "    # TODO: Plot the data"
   ]
  },
  {
   "cell_type": "markdown",
   "metadata": {},
   "source": [
    "## 2. PCA\n",
    "\n",
    "### (a) Implement a function `pca(X, n_components)` that performs Principal Component Analysis (PCA) on a data matrix `X`. (3 Points)\n",
    "\n",
    "- The implementation must work for data of **any dimensionality** (i.e., arbitrary number of features).\n",
    "- The function should return:\n",
    "  - The **eigenvalues**, sorted in **descending order**.\n",
    "  - The corresponding **normalized eigenvectors**, sorted according to their eigenvalues.\n",
    "- You may use NumPy’s `np.linalg.eig()` function to compute eigenvalues and eigenvectors."
   ]
  },
  {
   "cell_type": "code",
   "execution_count": null,
   "metadata": {},
   "outputs": [],
   "source": [
    "def pca(X, n_components=None):\n",
    "    \"\"\"\n",
    "    Perform Principal Component Analysis (PCA) on the input data matrix X.\n",
    "\n",
    "    Parameters:\n",
    "        X (numpy.ndarray): Input data of shape (n_samples, n_features)\n",
    "        n_components (int or None): Number of principal components to retain. If 'None' retain all\n",
    "\n",
    "    Returns:\n",
    "        X_reduced (numpy.ndarray): Projected data\n",
    "        eigvecs_reduced (numpy.ndarray): Selected eigenvectors\n",
    "        eigvals_selected (numpy.ndarray): Selected eigenvalues\n",
    "        mean (numpy.ndarray): Mean used for centering\n",
    "    \"\"\"\n",
    "\n",
    "    # TODO: Center the data\n",
    "    # Subtract Mean from Data (X)\n",
    "        mean=np.mean(X,axis=0)\n",
    "        X=X-mean\n",
    "    # TODO: Compute the covariance matrix\n",
    "        covarianceMatrix=ourCov(X)\n",
    "    # TODO: Compute eigenvalues and eigenvectors\n",
    "    # Use np.linalg.eig to calculate eigenvalue and eigenvector\n",
    "         eigenvalues,eigenvectors=np.linalg.eig(covarianceMatrix)\n",
    "    # TODO: Sort eigenvalues and eigenvectors in descending order\n",
    "    # Sort by eigenvalue --> Done by seting eigenvalue negative so the largest number becomes the smallest since argsort sorts accending\n",
    "        idx=np.argsort(-eigenvalues)\n",
    "        sortedEigenvalue=eigenvalues[idx]\n",
    "        sortedEigenvectors=eigenvectors[:,idx]\n",
    "    # TODO: Select the top n_components\n",
    "    # Use the input \"n_components\" to extract the biggest eigenvalues and eigenvectors \n",
    "        eigvals_selected=sortedEigenvalue[:n_components]\n",
    "        eigvecs_reduced=sortedEigenvectors[:,:n_components]\n",
    "    # TODO: Project data onto principal components\n",
    "    # Matrix Multiplication using X and eigvecs_reduced\n",
    "        X_reduced = X @ eigvecs_reduced\n",
    "    return X_reduced, eigvecs_reduced, eigvals_selected, mean"
   ]
  },
  {
   "cell_type": "markdown",
   "metadata": {},
   "source": [
    "### (b) Use plot2DPCA to plot results for all matrices (data0, data1, data2) (2 Points)"
   ]
  },
  {
   "cell_type": "code",
   "execution_count": null,
   "metadata": {},
   "outputs": [],
   "source": [
    "for data in [data0, data1, data2]:\n",
    "\n",
    "    # TODO: Perform PCA\n",
    "    data,eigVec,eigVal,mju=pca(data,2)\n",
    "    # Plot using the plot2DPCA function\n",
    "    plot2DPCA(\n",
    "        data=data,\n",
    "        mju=mean,\n",
    "        eigVec=eigVec,\n",
    "        eigVal=eigVal,\n",
    "        showStd=True,\n",
    "    )"
   ]
  },
  {
   "cell_type": "markdown",
   "metadata": {},
   "source": [
    "### (c) What do the **eigenvectors** represent?  (2 Points)\n",
    "- Where can this information be seen in the plot?  "
   ]
  },
  {
   "cell_type": "code",
   "execution_count": null,
   "metadata": {},
   "outputs": [],
   "source": []
  },
  {
   "cell_type": "markdown",
   "metadata": {},
   "source": [
    "\n",
    "### (d) What do the **eigenvalues** represent?  (3 Points)\n",
    "- Where can this information be seen in the plot?  \n",
    "- Is there a connection to the **total variance** of the data?  "
   ]
  },
  {
   "cell_type": "code",
   "execution_count": null,
   "metadata": {},
   "outputs": [],
   "source": []
  },
  {
   "cell_type": "markdown",
   "metadata": {},
   "source": [
    "### (e) How does **omitting the mean subtraction** from the data matrix `X` affect the computation of PCA? (2 Points)\n",
    "- Explain the consequences.  "
   ]
  },
  {
   "cell_type": "code",
   "execution_count": null,
   "metadata": {},
   "outputs": [],
   "source": []
  },
  {
   "cell_type": "markdown",
   "metadata": {},
   "source": [
    "## 3. Subspace projection"
   ]
  },
  {
   "cell_type": "markdown",
   "metadata": {},
   "source": [
    "### (a) PCA Projection and Reconstruction on 2D Data\n",
    "\n",
    "First: **(2 Points)**\n",
    "- Perform **PCA** on `data1`.\n",
    "- Project the data onto the **first principal component** (main vector).\n",
    "- **Plot** the projected data.\n",
    "- What is the **dimensionality** of the data after projection?\n",
    "\n",
    "Second: **(3 Points)**\n",
    "- Reconstruct the data from the projection back into the original 2D space.\n",
    "- Plot the reconstructed data alongside the original data using `plot2DPCA`\n",
    "- **Describe** the effects of the projection and reconstruction:\n",
    "  - How do the reconstructed points compare to the original ones?\n",
    "- Compute the **average reconstruction error** (e.g., mean squared error between original and reconstructed points).\n",
    "- How would the **average reconstruction error** change if you did the same for `data2`"
   ]
  },
  {
   "cell_type": "code",
   "execution_count": null,
   "metadata": {},
   "outputs": [],
   "source": [
    "# TODO: Apply PCA and project to first component\n",
    "\n",
    "# TODO: Visualize projection\n",
    "\n",
    "# TODO: Print the shape of the projected data\n",
    "\n",
    "# TODO: Reconstruct from projection\n",
    "\n",
    "# TODO: Plot reconstruction and compare to original\n",
    "\n",
    "\n",
    "# TODO: Compute reconstruction error and print it\n",
    "\n",
    "print(f\"Average reconstruction error for data1: {reconstruction_error_data1:.4f}\")\n",
    "\n",
    "# TODO : Repeat for data2 and compare results\n",
    "\n",
    "print(f\"Average reconstruction error for data2: {reconstruction_error_data2:.4f}\")"
   ]
  },
  {
   "cell_type": "markdown",
   "metadata": {},
   "source": [
    "\n",
    "### (b) Reconstruction Using the Second Principal Component (2 Points)\n",
    "\n",
    "- Repeat the steps from (a), but this time project the data onto the **second principal component** (side vector).\n",
    "- Reconstruct the data and analyze the results.\n",
    "- Which principal component would you choose to achieve a reconstruction with **minimal error**, using **only one component**?\n",
    "  - Justify your answer based on error and visual comparison."
   ]
  },
  {
   "cell_type": "code",
   "execution_count": null,
   "metadata": {},
   "outputs": [],
   "source": [
    "# TODO: Reconstruct from projection\n",
    "\n",
    "# TODO: Plot reconstruction and compare to original\n",
    "\n",
    "# TODO: Compute reconstruction error)\n",
    "\n",
    "print(f\"Average reconstruction error for data1: {reconstruction_error_second_component:.4f}\")"
   ]
  },
  {
   "cell_type": "markdown",
   "metadata": {},
   "source": [
    "## 4. Investigation in 3D\n",
    "\n",
    "### (a) PCA and 3D Visualization (3 Points)\n",
    "- Perform **PCA** on the `data3d`.\n",
    "- Plot the original data points in **3D**, along with the **eigenvectors** of the covariance matrix.\n",
    "- **Describe the relationships** between:\n",
    "  - The **covariance matrix**\n",
    "  - The **eigenvalues**\n",
    "  - The **eigenvectors**"
   ]
  },
  {
   "cell_type": "code",
   "execution_count": null,
   "metadata": {},
   "outputs": [],
   "source": [
    "# TODO: print covariance matrix\n",
    "\n",
    "# TODO: Apply PCA to 3D data\n",
    "\n",
    "# TODO: plot using the plot3DPCA function\n"
   ]
  },
  {
   "cell_type": "markdown",
   "metadata": {},
   "source": [
    "\n",
    "\n",
    "### (b) Projection and Reconstruction in Subspace (2 Points)\n",
    "\n",
    "- Project the data onto the subspace spanned by the **first two principal components** (i.e., the top 2 eigenvectors).\n",
    "- What is the **dimensionality** of the data after projection?\n",
    "- Reconstruct the data from the 2D projection back into the original **3D** space.\n",
    "- Plot both the **original** and the **reconstructed** data in 3D.\n",
    "- **Discuss what type of information has been lost** due to the projection."
   ]
  },
  {
   "cell_type": "code",
   "execution_count": null,
   "metadata": {},
   "outputs": [],
   "source": [
    "# TODO: project data3d to first two principal components in and plot in 2D\n",
    "\n",
    "# TODO: print dimensionality of X_reduced\n",
    "\n",
    "# TODO: reconstruct from projection into 3D and plot using plot3DPCA\n",
    "\n",
    "# TODO: Plot reconstruction using plot3DPCA"
   ]
  },
  {
   "cell_type": "markdown",
   "metadata": {},
   "source": [
    "## 5. Shape Modeling\n",
    "\n",
    "### (a) Data Exploration (2 Points)\n",
    "\n",
    "- The variable `bones` has shape **(nPoints, nDimensions, nShapes)**.\n",
    "- Visualize all bone shapes:\n",
    "  - Use `plt.scatter` to plot **each shape** in **black** with transparency (`alpha=0.5`).\n",
    "  - Compute and overlay the **mean shape** in **red**.\n",
    "- Ensure all bones are plotted in a **single figure** for comparison."
   ]
  },
  {
   "cell_type": "code",
   "execution_count": null,
   "metadata": {},
   "outputs": [],
   "source": [
    "fig = plt.figure(figsize=(4, 8))\n",
    "\n",
    "# TODO: Compute mean shape\n",
    "\n",
    "# TODO: Plot all bone shapes into a single plot\n",
    "\n",
    "# TODO: Plot mean shape in red in the sample plot as all other bones"
   ]
  },
  {
   "cell_type": "markdown",
   "metadata": {},
   "source": [
    "### Principal Component Analysis (PCA)\n",
    "\n",
    "- Reshape the 3D shape array `bones` into a 2D matrix of shape **(nShapes, nPoints × nDimensions)**.\n",
    "- Perform **PCA** on this reshaped matrix to obtain **(2 Points)**:\n",
    "  - **Eigenvectors** (principal directions)\n",
    "  - **Eigenvalues** (variances)\n",
    "  - **Mean shape**\n",
    "- Implement a function `generate_shape(b, mean_shape, eigVec)` **(3 Points)**:\n",
    "  - `b` is a coefficient vector (length = number of modes used).\n",
    "  - Generate a shape by linearly combining the mean shape and a subset of eigenvectors:\n",
    "    ```\n",
    "    new_shape = mean_shape + b @ eigVec[:len(b), :]\n",
    "    ```\n",
    "  - Reshape the output `new_shape` back to shape **(nPoints, nDimensions)** for plotting.\n",
    "\n",
    "  - Set `b = [100, 100]` and plot the newly generated shape and the mean shape together in one plot"
   ]
  },
  {
   "cell_type": "code",
   "execution_count": null,
   "metadata": {},
   "outputs": [],
   "source": [
    "# TODO: Reshape bones to 2D matrix for PCA (nShapes, nPoints * nDimensions) \n",
    "\n",
    "# TODO: Apply PCA \n",
    "\n",
    "# TODO: Implement generate_shape function \n",
    "def generate_shape(b, mean_shape, eigVec):\n",
    "    \"\"\"\n",
    "    Generate a new shape using PCA coefficients.\n",
    "\n",
    "    Parameters:\n",
    "        b (np.ndarray): Coefficient vector (1D), shape (n_components,)\n",
    "        mean_shape (np.ndarray): Flattened mean shape, shape (n_features,)\n",
    "        eigVec (np.ndarray): PCA eigenvectors, shape (n_features, n_features)\n",
    "\n",
    "    Returns:\n",
    "        new_shape (np.ndarray): Generated shape reshaped to (nPoints, nDimensions)\n",
    "    \"\"\"\n",
    "\n",
    "    # TODO: Ensure b is a row vector\n",
    "\n",
    "    # TODO: Linearly combine mean with first len(b) eigenvectors\n",
    "\n",
    "    # TODO: Reshape back to (nPoints, nDimensions)\n",
    "\n",
    "    return new_shape\n",
    "\n",
    "# TODO: Generate and plot a shape for testing \n",
    "b = [100, 100]  \n",
    "generated = generate_shape(b, mean_shape, eigVec)\n",
    "\n",
    "# TODO: Plot generated shape and mean shape for comparison in one plot\n",
    "plt.figure(figsize=(4, 8))\n",
    "plt.scatter(..., label='Generated Shape', s=1)\n",
    "plt.scatter(...., ..., label='Mean Shape', s=1)\n",
    "plt.axis('equal')\n",
    "plt.title(\"Generated Shape from PCA Coefficients\")\n",
    "plt.legend()\n",
    "plt.show()"
   ]
  },
  {
   "cell_type": "markdown",
   "metadata": {},
   "source": [
    "### Visualize Variation Along a Single PCA Mode (4 Points)\n",
    "\n",
    "- Write a function `visualize_shape_mode(bones, mode, num_samples=10)` that:\n",
    "  1. Reshapes the 3D shape array `bones` into 2D shape for PCA: `(nShapes, nPoints * nDimensions)`.\n",
    "  2. Applies PCA to extract eigenvectors, eigenvalues, and the mean shape.\n",
    "  3. Plots:\n",
    "     - The **mean shape** in red.\n",
    "     - A series of generated shapes by varying the specified PCA mode in the range **±3λ**, where λ is the standard deviation (square root of eigenvalue) for the selected mode.\n",
    "- The shapes should be plotted as transparent black points (`alpha=0.5`) in a single figure to visualize the effect of that mode together with the mean shape.\n",
    "- Use `generate_shape()` internally to create shapes.\n",
    "- Try different settings for `mode` as argument to the function and interpret how modes affect the overall shape of the bone."
   ]
  },
  {
   "cell_type": "code",
   "execution_count": null,
   "metadata": {},
   "outputs": [],
   "source": [
    "def visualize_shape_mode(bones, mode=0, num_samples=10):\n",
    "    \"\"\"\n",
    "    Visualize variation along a specific PCA mode using shape data.\n",
    "\n",
    "    Parameters:\n",
    "        bones (np.ndarray): 3D shape array of shape (nPoints, nDimensions, nShapes)\n",
    "        mode (int): Index of the PCA mode to vary\n",
    "        num_samples (int): Number of samples to generate in [-3λ, 3λ] range\n",
    "    \"\"\"\n",
    "    # TODO: Reshape bones to 2D matrix for PCA\n",
    "\n",
    "    # TODO: Apply PCA\n",
    "\n",
    "    # TODO: Prepare plot and plot mean shape and use generate_shape and plot new shape\n",
    "    plt.figure(figsize=(5, 10))\n",
    "\n",
    "    # TODO: Vary the selected mode in ±3λ\n",
    "\n",
    "\n",
    "    plt.axis('equal')\n",
    "    plt.title(f\"Variation along PCA Mode {mode}\")\n",
    "    plt.legend()\n",
    "    plt.grid(True)\n",
    "    plt.show()\n",
    "\n",
    "visualize_shape_mode(bones, mode=0, num_samples=10)"
   ]
  },
  {
   "cell_type": "markdown",
   "metadata": {},
   "source": [
    "### Random Shape Sampling and Variance Thresholding (4 Points)\n",
    "\n",
    "- Implement a function that generates random shapes from the PCA shape model using a random coefficient vector:\n",
    "\n",
    "  ```\n",
    "  b = np.random.randn(1, n_components) * stddevs[:n_components]\n",
    "  ```\n",
    "\n",
    "- The number of principal components (i.e., length of `b`) determines how many PCA modes influence the generated shape.\n",
    "\n",
    "- Your function should:\n",
    "\n",
    "  1. Compute the **total variance** and **cumulative explained variance** from the PCA eigenvalues.\n",
    "  2. Determine how many components are needed to reach the following thresholds of total variance:\n",
    "     - **100%**\n",
    "     - **95%**\n",
    "     - **90%**\n",
    "     - **80%**\n",
    "  3. For each threshold:\n",
    "     - Generate a random shape using the corresponding number of PCA components.\n",
    "     - Plot the generated shape in blue.\n",
    "     - Overlay the **mean shape** in red for reference.\n",
    "     - Use `plt.axis('equal')` and `plt.grid(True)` for consistency.\n",
    "     - Add a title indicating how many components were used and what percentage of variance they capture.\n",
    "\n",
    "- **Interpret the results**:\n",
    "  - How does reducing the number of components affect the realism, detail, or variability of the generated shapes?\n",
    "  - What kind of shape features are preserved vs. lost at lower variance thresholds?"
   ]
  },
  {
   "cell_type": "code",
   "execution_count": null,
   "metadata": {},
   "outputs": [],
   "source": [
    "def plot_shape_with_variance_thresholds(bones, eigVec, eigVal, mean_shape, stddevs, thresholds=[1.0, 0.95, 0.90, 0.80]):\n",
    "    \"\"\"\n",
    "    Generate and plot random shapes using PCA components for specific variance thresholds.\n",
    "\n",
    "    Parameters:\n",
    "        bones (np.ndarray): Original 3D shape data of shape (nPoints, nDimensions, nShapes)\n",
    "        eigVec (np.ndarray): PCA eigenvectors (shape: nFeatures x nFeatures)\n",
    "        eigVal (np.ndarray): PCA eigenvalues\n",
    "        mean_shape (np.ndarray): Flattened mean shape (1D array of length nFeatures)\n",
    "        stddevs (np.ndarray): Standard deviations for each PCA mode (sqrt of eigVal)\n",
    "        thresholds (list): List of variance thresholds to evaluate (default: [1.0, 0.95, 0.90, 0.80])\n",
    "    \"\"\"\n",
    "    # TODO: Calculate total variance and explained variance ratio\n",
    "\n",
    "    # TODO: get nPoints, nDimensions, nShapes\n",
    "\n",
    "    # TODO: loop over thresholds\n",
    "    for threshold in thresholds:\n",
    "\n",
    "        # TODO: Determine number of components required to reach threshold\n",
    "        n_components = ...\n",
    "        \n",
    "        # TODO: Generate random coefficient vector using stddevs and n_components\n",
    "\n",
    "        # TODO: Generate shape from PCA components using generate_shape function\n",
    "\n",
    "        # TODO: Plot the shape and mean shape\n",
    "        plt.figure(figsize=(5, 10))\n",
    "       \n",
    "\n",
    "        plt.axis('equal')\n",
    "        plt.grid(True)\n",
    "        plt.title(f\"{int(threshold * 100)}% Variance with {n_components} Components\")\n",
    "        plt.legend()\n",
    "        plt.show()"
   ]
  },
  {
   "cell_type": "code",
   "execution_count": null,
   "metadata": {},
   "outputs": [],
   "source": [
    "# TODO plot the shapes with variance thresholds\n",
    "\n",
    "plot_shape_with_variance_thresholds(bones, eigVec, eigVal, mean_shape, stddevs, thresholds=[1.0, 0.95, 0.90, 0.80])"
   ]
  },
  {
   "cell_type": "code",
   "execution_count": null,
   "metadata": {},
   "outputs": [],
   "source": []
  }
 ],
 "metadata": {
  "kernelspec": {
   "display_name": "Python 3 (ipykernel)",
   "language": "python",
   "name": "python3"
  },
  "language_info": {
   "codemirror_mode": {
    "name": "ipython",
    "version": 3
   },
   "file_extension": ".py",
   "mimetype": "text/x-python",
   "name": "python",
   "nbconvert_exporter": "python",
   "pygments_lexer": "ipython3",
   "version": "3.9.22"
  }
 },
 "nbformat": 4,
 "nbformat_minor": 4
}
